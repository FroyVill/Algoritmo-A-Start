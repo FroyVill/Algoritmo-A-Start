{
 "cells": [
  {
   "cell_type": "markdown",
   "metadata": {},
   "source": [
    "## **Descripción**\n",
    "El algoritmo de búsqueda A*/A start es un algoritmo de búsqueda heurística ampliamente utilizado en inteligencia artificial y juegos para encontrar el camino más corto entre un nodo inicial y un nodo objetivo en un grafo ponderado. El cual combina la búsqueda en anchura con la búsqueda de coste más bajo, utilizando una función heurística para evaluar el coste esperado de moverse desde un nodo dado hasta el objetivo.\n"
   ]
  },
  {
   "cell_type": "markdown",
   "metadata": {},
   "source": [
    "\n",
    "### Laberinto:\n",
    "\n",
    "El laberinto de tamaño 5x5 que se utilizara:\n",
    "\n",
    "| I |   | # |   |   |   |\n",
    "|---|---|---|---|---|---|\n",
    "|   |   | # |   | # |   |\n",
    "|   |   |   |   | # |   |\n",
    "|   | # |   | # |   | # |\n",
    "|   |   |   |   |   | O |\n",
    "\n",
    "\n",
    "Donde:\n",
    "\n",
    "- I representa la casilla de inicio.\n",
    "- O representa la casilla de objetivo.\n",
    "- \\# representa una pared.\n",
    "- Los espacios en blanco representan pasillos donde se puede mover.\n"
   ]
  },
  {
   "cell_type": "markdown",
   "metadata": {},
   "source": [
    "# **Desarrollo**"
   ]
  },
  {
   "cell_type": "code",
   "execution_count": 1,
   "metadata": {},
   "outputs": [],
   "source": [
    "import heapq"
   ]
  },
  {
   "cell_type": "markdown",
   "metadata": {},
   "source": [
    "## Nodos"
   ]
  },
  {
   "cell_type": "code",
   "execution_count": 2,
   "metadata": {},
   "outputs": [],
   "source": [
    "class nodo:\n",
    "    def __init__(self, x, y, costAcum=0, heuristica=0):\n",
    "        self.x = x\n",
    "        self.y = y\n",
    "        self.cost = costAcum\n",
    "        self.heuristica = heuristica\n",
    "        self.costTotal = costAcum + heuristica\n",
    "        self.padre = None\n",
    "\n",
    "        #Less than\n",
    "    def __lt__(self, other):\n",
    "        return self.costTotal < other.costTotal\n",
    "    \n",
    "        #Igual\n",
    "    def __eq__(self, other):\n",
    "        return self.costTotal == other.costTotal"
   ]
  },
  {
   "cell_type": "markdown",
   "metadata": {},
   "source": [
    "## Heuristica"
   ]
  },
  {
   "cell_type": "code",
   "execution_count": 3,
   "metadata": {},
   "outputs": [],
   "source": [
    "#nodo.x: La coordenada x del nodo actual en el laberinto.\n",
    "#objetivo[0]: La coordenada x del objetivo en el laberinto.\n",
    "#nodo.y: La coordenada y del nodo actual en el laberinto.\n",
    "#objetivo[1]: La coordenada y del objetivo en el laberinto.\n",
    "def heuristic(nodo, objetivo):\n",
    "    return abs(nodo.x - objetivo[0]) + abs(nodo.y - objetivo[1])"
   ]
  },
  {
   "cell_type": "markdown",
   "metadata": {},
   "source": [
    "## Validación"
   ]
  },
  {
   "cell_type": "code",
   "execution_count": 4,
   "metadata": {},
   "outputs": [],
   "source": [
    "def es_valido(x, y, grid):\n",
    "    return 0 <= x < len(grid) and 0 <= y < len(grid[0]) and grid[x][y] != '#'\n",
    "    #garantiza que las coordenadas (x, y) estén dentro de los límites del laberinto \n",
    "    #grid[x][y] != '#' = la celda en esas coordenadas no sea una pared"
   ]
  },
  {
   "cell_type": "code",
   "execution_count": 5,
   "metadata": {},
   "outputs": [],
   "source": [
    "def obtVecinos(nodo, grid):\n",
    "    vecinos = []\n",
    "    direcciones = [(1, 0), (0, 1), (-1, 0), (0, -1)]\n",
    "    #Posibles direcciones para moverse\n",
    "\n",
    "    for dx, dy in direcciones:\n",
    "        new_x, new_y = nodo.x + dx, nodo.y + dy\n",
    "        #Calcula las nuevas coordenadas\n",
    "\n",
    "        if es_valido(new_x, new_y, grid):\n",
    "            vecinos.append(nodo(new_x, new_y))\n",
    "            #crea un nuevo objeto nodo con las coordenadas y lo agrega a la lista de vecinos\n",
    "\n",
    "    return vecinos"
   ]
  },
  {
   "cell_type": "markdown",
   "metadata": {},
   "source": [
    "## Algoritmo A*"
   ]
  },
  {
   "cell_type": "code",
   "execution_count": 6,
   "metadata": {},
   "outputs": [],
   "source": [
    "def a_Star(grid, inicio, objetivo):\n",
    "    set_abierto = [] #Nodos que pueden ser visitados\n",
    "    set_cerrado = set() #Nodos que ya se visitaron\n",
    "\n",
    "    inicio_nodo = nodo(inicio[0], inicio[1], heuristic(nodo(inicio[0], inicio[1]), objetivo))\n",
    "    #Se asigna un valor heurístico basado en la distancia al objetivo\n",
    "\n",
    "    heapq.heappush(set_abierto, inicio_nodo)\n",
    "    #Coloca el nodo de inicio en la cola de prioridad\n",
    "\n",
    "    while set_abierto:#Continúa mientras hay nodos en la cola de prioridad set_abierto\n",
    "        nodo_actual = heapq.heappop(set_abierto)\n",
    "        #Se extrae el nodo con el menor costo total estimado\n",
    "\n",
    "        if (nodo_actual.x, nodo_actual.y) == objetivo:\n",
    "            path = []\n",
    "            while nodo_actual:\n",
    "                path.insert(0, (nodo_actual.x, nodo_actual.y))\n",
    "                nodo_actual = nodo_actual.padre\n",
    "                #reconstruye el camino desde el nodo objetivo utilizando el puntero padre\n",
    "            return path\n",
    "\n",
    "        set_cerrado.add((nodo_actual.x, nodo_actual.y))\n",
    "        #ndica que este nodo ya ha sido explorado y no debe considerarse nuevamente\n",
    "\n",
    "        for dx, dy in [(1, 0), (0, 1), (-1, 0), (0, -1)]:\n",
    "        #bucle para las cuatro direcciones posibles\n",
    "            new_x, new_y = nodo_actual.x + dx, nodo_actual.y + dy\n",
    "            #Calcula las nuevas coordenadas  sumando las diferencias a las coordenadas actuales del nodo \n",
    "\n",
    "            if es_valido(new_x, new_y, grid):\n",
    "            #Verifica si las nuevas coordenadas están dentro de los límites del laberinto\n",
    "                vecino = nodo(new_x, new_y)\n",
    "                #Crea un nuevo objeto  llamado vecino para representar el nodo vecino en las nuevas coordenadas\n",
    "                vecino.cost = nodo_actual.cost + 1\n",
    "                #Calcula el nuevo costo acumulado del nodo vecino al sumar 1 al costo acumulado del nodo actual\n",
    "                vecino.heuristic = heuristic(vecino, objetivo)\n",
    "                #Calcula el valor heurístico del nodo vecino\n",
    "                vecino.total_cost = vecino.cost + vecino.heuristic\n",
    "                #Calcula el nuevo costo total del nodo vecino sumando el costo acumulado y el valor heurístico.\n",
    "                vecino.padre = nodo_actual\n",
    "                #Establece el nodo actual como el padre del nodo vecino\n",
    "\n",
    "                if (vecino.x, vecino.y) not in set_cerrado:\n",
    "                    #Verifica si las coordenadas del nodo vecino no estan en closet set\n",
    "                    heapq.heappush(set_abierto, vecino)\n",
    "                    #Añade el nodo vecino a la cola de prioridad set_abierto\n",
    "\n",
    "    return None  # No se encontro solucion"
   ]
  },
  {
   "cell_type": "markdown",
   "metadata": {},
   "source": [
    "## Laberinto"
   ]
  },
  {
   "cell_type": "code",
   "execution_count": 7,
   "metadata": {},
   "outputs": [],
   "source": [
    "def visualizar(grid, path=None):\n",
    "    for i, row in enumerate(grid):\n",
    "        for j, cell in enumerate(row):\n",
    "            if (i, j) == inicio:\n",
    "                print('I', end=' ')\n",
    "            elif (i, j) == objetivo:\n",
    "                print('O', end=' ')\n",
    "            elif path and (i, j) in path:\n",
    "                print('|x|', end=' ')\n",
    "            elif cell is None:\n",
    "                print('| |', end=' ')  \n",
    "            else:\n",
    "                print(cell, end=' ')\n",
    "        print()"
   ]
  },
  {
   "cell_type": "code",
   "execution_count": 8,
   "metadata": {},
   "outputs": [
    {
     "name": "stdout",
     "output_type": "stream",
     "text": [
      "Camino encontrado:\n",
      "I | | | | | | | | | | \n",
      "|x| | | # | | # | | \n",
      "|x| | | # | | # | | \n",
      "|x| # | | # | | # \n",
      "|x| |x| |x| |x| |x| O \n"
     ]
    }
   ],
   "source": [
    "inicio = (0, 0)\n",
    "objetivo = (4, 5)\n",
    "\n",
    "maze = [\n",
    "    [None, None, None, None, None, None],\n",
    "    [None, None, '#', None, '#', None],\n",
    "    [None, None, '#', None, '#', None],\n",
    "    [None, '#', None, '#', None, '#'],\n",
    "    [None, None, None, None, None, 'O']\n",
    "]\n",
    "\n",
    "path = a_Star(maze, inicio, objetivo)\n",
    "\n",
    "if path:\n",
    "    print(\"Camino encontrado:\")\n",
    "    visualizar(maze, path)\n",
    "else:\n",
    "    print(\"No existe un camino :(\")\n"
   ]
  }
 ],
 "metadata": {
  "kernelspec": {
   "display_name": "Python 3",
   "language": "python",
   "name": "python3"
  },
  "language_info": {
   "codemirror_mode": {
    "name": "ipython",
    "version": 3
   },
   "file_extension": ".py",
   "mimetype": "text/x-python",
   "name": "python",
   "nbconvert_exporter": "python",
   "pygments_lexer": "ipython3",
   "version": "3.12.2"
  }
 },
 "nbformat": 4,
 "nbformat_minor": 2
}
